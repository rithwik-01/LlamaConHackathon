{
 "cells": [
  {
   "cell_type": "markdown",
   "metadata": {},
   "source": [
    "# LORE - Repository Analysis Tool\n",
    "\n",
    "This notebook sets up and runs the LORE application in a remote server environment."
   ]
  },
  {
   "cell_type": "markdown",
   "metadata": {},
   "source": [
    "## 1. Setup Environment\n",
    "\n",
    "First, let's create a virtual environment and install the required dependencies:"
   ]
  },
  {
   "cell_type": "code",
   "execution_count": null,
   "metadata": {},
   "source": [
    "!python -m venv .venv\n",
    "!source .venv/bin/activate\n",
    "!pip install -r requirements-jupyter.txt"
   ]
  },
  {
   "cell_type": "markdown",
   "metadata": {},
   "source": [
    "## 2. Set Environment Variables\n",
    "\n",
    "Set up your API keys and configuration:"
   ]
  },
  {
   "cell_type": "code",
   "execution_count": null,
   "metadata": {},
   "source": [
    "import os\n",
    "from dotenv import load_dotenv\n",
    "\n",
    "# Load environment variables from .env file\n",
    "load_dotenv()\n",
    "\n",
    "# Verify environment variables are loaded\n",
    "required_vars = ['LLAMA_API_KEY', 'LLAMA_API_BASE']\n",
    "missing_vars = [var for var in required_vars if not os.getenv(var)]\n",
    "if missing_vars:\n",
    "    raise ValueError(f\"Missing required environment variables: {', '.join(missing_vars)}\")"
   ]
  },
  {
   "cell_type": "markdown",
   "metadata": {},
   "source": [
    "## 3. Import Required Modules"
   ]
  },
  {
   "cell_type": "code",
   "execution_count": null,
   "metadata": {},
   "source": [
    "import sys\n",
    "from pathlib import Path\n",
    "\n",
    "# Add the project root to Python path\n",
    "project_root = Path.cwd()\n",
    "if str(project_root) not in sys.path:\n",
    "    sys.path.append(str(project_root))\n",
    "\n",
    "from lore.llm.llama_client import LlamaClient\n",
    "from lore.analysis.analyzer import RepositoryAnalyzer\n",
    "from lore.ui.chat_interface import RepoChat\n",
    "from lore.utils.repo_utils import clone_github_repo\n",
    "from lore.ingestion.git_extractor import GitExtractor"
   ]
  },
  {
   "cell_type": "markdown",
   "metadata": {},
   "source": [
    "## 4. Initialize Components and Analyze Repository"
   ]
  },
  {
   "cell_type": "code",
   "execution_count": null,
   "metadata": {},
   "source": [
    "# Initialize LlamaClient\n",
    "llm_client = LlamaClient()\n",
    "\n",
    "# Initialize Repository Analyzer\n",
    "analyzer = RepositoryAnalyzer(llm_client)\n",
    "\n",
    "# Clone repository\n",
    "repo_url = \"https://github.com/rithwik-01/LlamaConHackathon\"  # Replace with your repo URL\n",
    "repo_path = clone_github_repo(repo_url)\n",
    "print(f\"Repository cloned to: {repo_path}\")\n",
    "\n",
    "# Create GitExtractor\n",
    "git_extractor = GitExtractor(repo_path)\n",
    "\n",
    "# Prepare repository context\n",
    "print(\"Preparing repository context...\")\n",
    "repo_context = analyzer.prepare_repository_context(git_extractor)\n",
    "\n",
    "# Analyze repository\n",
    "print(\"Analyzing repository...\")\n",
    "analysis_result = analyzer.analyze_repository(\n",
    "    context=repo_context,\n",
    "    task=\"analyze_architecture\",\n",
    "    model=\"llama-2-70b-chat\"\n",
    ")\n",
    "print(\"Analysis complete!\")\n",
    "\n",
    "# Initialize chat interface\n",
    "chat = RepoChat(llm_client, analyzer, repo_context)\n",
    "print(\"Chat interface ready!\")"
   ]
  },
  {
   "cell_type": "markdown",
   "metadata": {},
   "source": [
    "## 5. Chat Interface\n",
    "\n",
    "Use this cell to interact with the repository:"
   ]
  },
  {
   "cell_type": "code",
   "execution_count": null,
   "metadata": {},
   "source": [
    "def ask_question(question: str):\n",
    "    \"\"\"Ask a question about the repository\"\"\"\n",
    "    print(f\"Q: {question}\\n\")\n",
    "    try:\n",
    "        response = chat.chat(question)\n",
    "        print(f\"A: {response}\\n\")\n",
    "        return response\n",
    "    except Exception as e:\n",
    "        print(f\"Error: {str(e)}\")\n",
    "        return None\n",
    "\n",
    "# Example usage:\n",
    "question = \"What are the main components of this repository?\"\n",
    "ask_question(question)"
   ]
  }
 ],
 "metadata": {
  "kernelspec": {
   "display_name": "Python 3",
   "language": "python",
   "name": "python3"
  },
  "language_info": {
   "codemirror_mode": {
    "name": "ipython",
    "version": 3
   },
   "file_extension": ".py",
   "mimetype": "text/x-python",
   "name": "python",
   "nbconvert_exporter": "python",
   "pygments_lexer": "ipython3",
   "version": "3.9.0"
  }
 },
 "nbformat": 4,
 "nbformat_minor": 4
}
