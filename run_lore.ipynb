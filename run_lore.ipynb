{
 "cells": [
  {
   "cell_type": "markdown",
   "metadata": {},
   "source": [
    "# LORE - Repository Analysis Tool\n",
    "\n",
    "This notebook sets up and runs the LORE application in a remote server environment."
   ]
  },
  {
   "cell_type": "markdown",
   "metadata": {},
   "source": [
    "## 1. Setup Environment\n",
    "\n",
    "First, let's install the required dependencies:"
   ]
  },
  {
   "cell_type": "code",
   "execution_count": null,
   "metadata": {},
   "source": [
    "!pip install -r requirements.txt"
   ]
  },
  {
   "cell_type": "markdown",
   "metadata": {},
   "source": [
    "## 2. Set Environment Variables\n",
    "\n",
    "Set up your API keys and configuration:"
   ]
  },
  {
   "cell_type": "code",
   "execution_count": null,
   "metadata": {},
   "source": [
    "import os\n",
    "\n",
    "# Set your API keys here\n",
    "os.environ['LLAMA_API_KEY'] = 'your_llama_api_key_here'\n",
    "os.environ['LLAMA_API_BASE'] = 'https://api.llama.com/v1'\n",
    "os.environ['GITHUB_TOKEN'] = 'your_github_token_here'  # Optional, for private repos"
   ]
  },
  {
   "cell_type": "markdown",
   "metadata": {},
   "source": [
    "## 3. Import Required Modules"
   ]
  },
  {
   "cell_type": "code",
   "execution_count": null,
   "metadata": {},
   "source": [
    "import sys\n",
    "from pathlib import Path\n",
    "\n",
    "# Add the project root to Python path\n",
    "project_root = Path.cwd()\n",
    "if str(project_root) not in sys.path:\n",
    "    sys.path.append(str(project_root))\n",
    "\n",
    "from lore.llm.llama_client import LlamaClient\n",
    "from lore.analysis.analyzer import RepositoryAnalyzer\n",
    "from lore.ui.chat_interface import RepoChat\n",
    "from lore.utils.repo_utils import clone_repository"
   ]
  },
  {
   "cell_type": "markdown",
   "metadata": {},
   "source": [
    "## 4. Initialize Components"
   ]
  },
  {
   "cell_type": "code",
   "execution_count": null,
   "metadata": {},
   "source": [
    "# Initialize LlamaClient\n",
    "llm_client = LlamaClient()\n",
    "\n",
    "# Initialize Repository Analyzer\n",
    "analyzer = RepositoryAnalyzer(llm_client)\n",
    "\n",
    "# Clone or use local repository\n",
    "repo_url = \"https://github.com/your-repo-url\"  # Replace with your repo URL\n",
    "repo_path = clone_repository(repo_url)\n",
    "\n",
    "# Analyze repository\n",
    "repo_context = analyzer.analyze_repository(repo_path)\n",
    "\n",
    "# Initialize chat interface\n",
    "chat = RepoChat(llm_client, analyzer, repo_context)"
   ]
  },
  {
   "cell_type": "markdown",
   "metadata": {},
   "source": [
    "## 5. Chat Interface\n",
    "\n",
    "Use this cell to interact with the repository:"
   ]
  },
  {
   "cell_type": "code",
   "execution_count": null,
   "metadata": {},
   "source": [
    "def ask_question(question: str):\n",
    "    \"\"\"Ask a question about the repository\"\"\"\n",
    "    response = chat.chat(question)\n",
    "    print(f\"Q: {question}\\n\")\n",
    "    print(f\"A: {response}\\n\")\n",
    "    return response\n",
    "\n",
    "# Example usage:\n",
    "question = \"What are the main components of this repository?\"\n",
    "ask_question(question)"
   ]
  },
  {
   "cell_type": "markdown",
   "metadata": {},
   "source": [
    "## 6. Interactive Usage\n",
    "\n",
    "You can now ask questions about your repository using the `ask_question` function above. Here are some example questions:"
   ]
  },
  {
   "cell_type": "code",
   "execution_count": null,
   "metadata": {},
   "source": [
    "# Example questions\n",
    "questions = [\n",
    "    \"What is the main purpose of this codebase?\",\n",
    "    \"What are the key dependencies used?\",\n",
    "    \"How is the code organized?\",\n",
    "    \"What are the main classes and their responsibilities?\"\n",
    "]\n",
    "\n",
    "for q in questions:\n",
    "    ask_question(q)"
   ]
  }
 ],
 "metadata": {
  "kernelspec": {
   "display_name": "Python 3",
   "language": "python",
   "name": "python3"
  },
  "language_info": {
   "codemirror_mode": {
    "name": "ipython",
    "version": 3
   },
   "file_extension": ".py",
   "mimetype": "text/x-python",
   "name": "python",
   "nbconvert_exporter": "python",
   "pygments_lexer": "ipython3",
   "version": "3.9.0"
  }
 },
 "nbformat": 4,
 "nbformat_minor": 4
}
